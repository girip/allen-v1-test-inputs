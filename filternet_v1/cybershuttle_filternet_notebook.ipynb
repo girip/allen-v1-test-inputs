{
 "cells": [
  {
   "cell_type": "code",
   "execution_count": null,
   "id": "initial_id",
   "metadata": {
    "collapsed": true
   },
   "outputs": [],
   "source": [
    "from filternet_v1.filternet_flicker_stimulus_parameter_sweep_constant_stimulus_time import stimulus_plot_save_path\n",
    "%pip install -q --force-reinstall airavata-python-sdk[notebook]\n",
    "import airavata_jupyter_magic\n",
    "\n",
    "%authenticate\n",
    "%request_runtime hpc_cpu --file=cybershuttle.yml --walltime=60 --use=NeuroData25VC1:cloud,expanse:shared,anvil:shared\n",
    "%switch_runtime hpc_cpu"
   ]
  },
  {
   "metadata": {},
   "cell_type": "code",
   "outputs": [],
   "execution_count": null,
   "source": [
    "import matplotlib.pyplot as plt\n",
    "import os\n",
    "import pathlib\n",
    "import sys\n",
    "from pathlib import Path"
   ],
   "id": "b8ad5f6b643d488b"
  },
  {
   "metadata": {},
   "cell_type": "code",
   "outputs": [],
   "execution_count": null,
   "source": "%pwd",
   "id": "dbc53f6fb7a4f594"
  },
  {
   "metadata": {},
   "cell_type": "code",
   "outputs": [],
   "execution_count": null,
   "source": [
    "cwd = Path.cwd()\n",
    "if cwd.name is not 'filternet_v1':\n",
    "    corrected_filternet_dir = cwd / 'filternet_v1'\n",
    "    os.chdir(corrected_filternet_dir)"
   ],
   "id": "5c4b414c8e19c7e7"
  },
  {
   "metadata": {},
   "cell_type": "code",
   "outputs": [],
   "execution_count": null,
   "source": [
    "from my_stimulus.create_flicker_stimulus import *\n",
    "\n",
    "res_x = 120; res_y = 240\n",
    "duty = .5\n",
    "pixel_in = 2\n",
    "frequency = 10\n",
    "stimulus_save_path = './my_stimulus/cybershuttle/frequency_{}/duty_{}/pixel_in_{}_res_x_{}_res_y_{}.npy'.format(frequency, duty, pixel_in, res_x, res_y)\n",
    "stimulus_plot_save_path = './my_stimulus/cybershuttle/frequency_{}/duty_{}/pixel_in_{}_res_x_{}_res_y_{}.png'.format(frequency, duty, pixel_in, res_x, res_y)\n",
    "if not os.path.isfile(stimulus_save_path):\n",
    "    #generate flicker stimulus\n",
    "    _ = generate_flicker_stimulus_1ms_resolution(total_time_ms=3000,\n",
    "                                             time_delay_start_ms=500, time_delay_end_ms=500,\n",
    "                                             frequency=frequency, duty_cycle=duty, active_value=pixel_in,\n",
    "                                             inactive_value=0, res_x=res_x, res_y=res_y,\n",
    "                                             file_save_path=stimulus_save_path,\n",
    "                                             plot_save_path=stimulus_plot_save_path\n",
    "                                            )\n",
    "else:\n",
    "    print(\"stimulus for parameters frequency {} duty {} intensity {} has already been generated\".format(frequency, duty, pixel_in))"
   ],
   "id": "6d89107ec6b585e7"
  },
  {
   "metadata": {},
   "cell_type": "code",
   "outputs": [],
   "execution_count": null,
   "source": "%pwd",
   "id": "9cc04b497e64e230"
  },
  {
   "metadata": {},
   "cell_type": "code",
   "outputs": [],
   "execution_count": null,
   "source": "filternet_config_path = './my_configs/config_flicker_cybershuttle_test.json'",
   "id": "661568fc4a0b1fcb"
  },
  {
   "metadata": {},
   "cell_type": "code",
   "outputs": [],
   "execution_count": null,
   "source": [
    "#!python run_filternet.py filternet_config_path\n",
    "from run_filternet import run\n",
    "run(filternet_config_path)"
   ],
   "id": "2b9918e83e5e1297"
  }
 ],
 "metadata": {
  "kernelspec": {
   "display_name": "Python 3",
   "language": "python",
   "name": "python3"
  },
  "language_info": {
   "codemirror_mode": {
    "name": "ipython",
    "version": 2
   },
   "file_extension": ".py",
   "mimetype": "text/x-python",
   "name": "python",
   "nbconvert_exporter": "python",
   "pygments_lexer": "ipython2",
   "version": "2.7.6"
  }
 },
 "nbformat": 4,
 "nbformat_minor": 5
}
