{
 "cells": [
  {
   "cell_type": "code",
   "execution_count": 3,
   "id": "7faaac48",
   "metadata": {},
   "outputs": [],
   "source": [
    "import numpy as np\n",
    "from bmtk.analyzer.spike_trains import to_dataframe"
   ]
  },
  {
   "cell_type": "code",
   "execution_count": 2,
   "id": "6d186191",
   "metadata": {},
   "outputs": [],
   "source": [
    "file_path = 'spikes_from_filternet/flicker_10hz_0_background/spikes.h5'"
   ]
  },
  {
   "cell_type": "code",
   "execution_count": 4,
   "id": "c955b4fd",
   "metadata": {},
   "outputs": [
    {
     "ename": "TypeError",
     "evalue": "to_dataframe() missing 1 required positional argument: 'config_file'",
     "output_type": "error",
     "traceback": [
      "\u001b[0;31m---------------------------------------------------------------------------\u001b[0m",
      "\u001b[0;31mTypeError\u001b[0m                                 Traceback (most recent call last)",
      "Cell \u001b[0;32mIn[4], line 1\u001b[0m\n\u001b[0;32m----> 1\u001b[0m df \u001b[38;5;241m=\u001b[39m \u001b[43mto_dataframe\u001b[49m\u001b[43m(\u001b[49m\u001b[43mspikes_file\u001b[49m\u001b[38;5;241;43m=\u001b[39;49m\u001b[43mfile_path\u001b[49m\u001b[43m)\u001b[49m\n",
      "\u001b[0;31mTypeError\u001b[0m: to_dataframe() missing 1 required positional argument: 'config_file'"
     ]
    }
   ],
   "source": [
    "df = to_dataframe(spikes_file=file_path)"
   ]
  },
  {
   "cell_type": "code",
   "execution_count": null,
   "id": "2546d94c",
   "metadata": {},
   "outputs": [],
   "source": [
    "\n"
   ]
  }
 ],
 "metadata": {
  "kernelspec": {
   "display_name": "Python 3 (ipykernel)",
   "language": "python",
   "name": "python3"
  },
  "language_info": {
   "codemirror_mode": {
    "name": "ipython",
    "version": 3
   },
   "file_extension": ".py",
   "mimetype": "text/x-python",
   "name": "python",
   "nbconvert_exporter": "python",
   "pygments_lexer": "ipython3",
   "version": "3.9.7"
  }
 },
 "nbformat": 4,
 "nbformat_minor": 5
}
