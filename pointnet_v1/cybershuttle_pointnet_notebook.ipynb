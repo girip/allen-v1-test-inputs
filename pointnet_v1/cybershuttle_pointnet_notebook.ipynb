{
 "cells": [
  {
   "cell_type": "code",
   "execution_count": null,
   "id": "initial_id",
   "metadata": {
    "collapsed": true
   },
   "outputs": [],
   "source": [
    "from filternet_v1.filternet_flicker_stimulus_parameter_sweep_constant_stimulus_time import stimulus_plot_save_path\n",
    "%pip install -q --force-reinstall airavata-python-sdk[notebook]\n",
    "import airavata_jupyter_magic\n",
    "\n",
    "%authenticate\n",
    "%request_runtime hpc_cpu --file=cybershuttle.yml --walltime=60 --use=NeuroData25VC1:cloud,expanse:shared,anvil:shared\n",
    "%switch_runtime hpc_cpu"
   ]
  },
  {
   "metadata": {},
   "cell_type": "code",
   "outputs": [],
   "execution_count": null,
   "source": [
    "# %pip install --force-reinstall airavata-python-sdk[notebook]\n",
    "#import airavata_jupyter_magic\n",
    "\n",
    "#%authenticate\n",
    "#%request_runtime hpc_cpu --file=../cybershuttle.yml --walltime=60 --use=expanse:shared,anvil:shared\n",
    "#%switch_runtime hpc_cpu"
   ],
   "id": "66ef7376e2a4d89b"
  },
  {
   "metadata": {},
   "cell_type": "code",
   "outputs": [],
   "execution_count": null,
   "source": [
    "import matplotlib.pyplot as plt\n",
    "import os\n",
    "import pathlib\n",
    "import sys\n",
    "from pathlib import Path"
   ],
   "id": "5f0ffb03dd18af"
  },
  {
   "metadata": {},
   "cell_type": "code",
   "outputs": [],
   "execution_count": null,
   "source": "%pwd",
   "id": "5869ffeb1fab6799"
  },
  {
   "metadata": {},
   "cell_type": "code",
   "outputs": [],
   "execution_count": null,
   "source": [
    "cwd = Path.cwd()\n",
    "if cwd.name is not 'pointnet_v1':\n",
    "    corrected_filternet_dir = cwd / 'pointnet_v1'\n",
    "    os.chdir(corrected_filternet_dir)"
   ],
   "id": "4c6f783a8aa51ef4"
  },
  {
   "metadata": {},
   "cell_type": "code",
   "outputs": [],
   "execution_count": null,
   "source": "pointnet_config_path = './my_configs/config_no_input.json'",
   "id": "4a43ce3a2f213c81"
  },
  {
   "metadata": {},
   "cell_type": "code",
   "outputs": [],
   "execution_count": null,
   "source": [
    "#run pointnet with this command\n",
    "!python run_pointnet.py pointnet_config_path"
   ],
   "id": "1ac8fe66f2bb1c1a"
  },
  {
   "metadata": {},
   "cell_type": "code",
   "outputs": [],
   "execution_count": null,
   "source": [
    "#OR TRY THIS CELL TO RUN POINTNET\n",
    "from run_pointnet import *\n",
    "import os, sys\n",
    "import math\n",
    "import numpy as np\n",
    "from bmtk.simulator import pointnet\n",
    "from bmtk.simulator.pointnet.pyfunction_cache import synaptic_weight\n",
    "from bmtk.simulator.pointnet.io_tools import io\n",
    "\n",
    "import nest\n",
    "try:\n",
    "    nest.Install('glifmodule')\n",
    "except Exception as e:\n",
    "    pass\n",
    "\n",
    "main(pointnet_config_path)\n"
   ],
   "id": "9d04c49a926dc44f"
  }
 ],
 "metadata": {
  "kernelspec": {
   "display_name": "Python 3",
   "language": "python",
   "name": "python3"
  },
  "language_info": {
   "codemirror_mode": {
    "name": "ipython",
    "version": 2
   },
   "file_extension": ".py",
   "mimetype": "text/x-python",
   "name": "python",
   "nbconvert_exporter": "python",
   "pygments_lexer": "ipython2",
   "version": "2.7.6"
  }
 },
 "nbformat": 4,
 "nbformat_minor": 5
}
